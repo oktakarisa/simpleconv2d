{
  "cells": [
    {
      "cell_type": "markdown",
      "metadata": {},
      "source": [
        "**SimpleConv2D CNN - MNIST Training**\n",
        "\n",
        "Complete CNN implementation from scratch using NumPy."
      ]
    },
    {
      "cell_type": "markdown",
      "metadata": {},
      "source": [
        "**Setup**"
      ]
    },
    {
      "cell_type": "code",
      "execution_count": null,
      "metadata": {},
      "outputs": [],
      "source": [
        "import numpy as np\n",
        "import matplotlib.pyplot as plt\n",
        "import time\n",
        "from sklearn.model_selection import train_test_split\n",
        "from src.data_loader import MNISTDataLoader\n",
        "from src.simpleconv2d_classifier import Scratch2dCNNClassifier\n",
        "from src.cnn_layers import Conv2d, MaxPool2D, Flatten, FullyConnected, SoftmaxCrossEntropyLoss, SGD, relu, relu_derivative\n",
        "\n",
        "np.random.seed(42)"
      ]
    },
    {
      "cell_type": "markdown",
      "metadata": {},
      "source": [
        "**Load MNIST Data**"
      ]
    },
    {
      "cell_type": "code",
      "execution_count": null,
      "metadata": {},
      "outputs": [],
      "source": [
        "print(\"Loading MNIST data...\")\n",
        "data_loader = MNISTDataLoader(data_dir='data')\n",
        "X_train, X_test, y_train, y_test = data_loader.load_data(test_size=0.2, random_state=42)\n",
        "\n",
        "X_train, X_val, y_train, y_val = train_test_split(X_train, y_train, test_size=0.2, random_state=42)\n",
        "\n",
        "print(f\"Training set: {X_train.shape[0]} samples\")\n",
        "print(f\"Validation set: {X_val.shape[0]} samples\")\n",
        "print(f\"Test set: {X_test.shape[0]} samples\")"
      ]
    },
    {
      "cell_type": "markdown",
      "metadata": {},
      "source": [
        "**Build CNN Architecture**"
      ]
    },
    {
      "cell_type": "code",
      "execution_count": null,
      "metadata": {},
      "outputs": [],
      "source": [
        "class ReLULayer:\n",
        "    def __init__(self):\n",
        "        self.input = None\n",
        "    def forward(self, x, training=True):\n",
        "        self.input = x\n",
        "        return relu(x)\n",
        "    def backward(self, dout):\n",
        "        return relu_derivative(self.input) * dout\n",
        "    def get_params_count(self):\n",
        "        return 0\n",
        "\n",
        "layers = [\n",
        "    Conv2d(in_channels=1, out_channels=8, kernel_size=3, stride=1, padding=1),\n",
        "    ReLULayer(),\n",
        "    MaxPool2D(kernel_size=2, stride=2),\n",
        "    Conv2d(in_channels=8, out_channels=16, kernel_size=3, stride=1, padding=1),\n",
        "    ReLULayer(),\n",
        "    MaxPool2D(kernel_size=2, stride=2),\n",
        "    Flatten(),\n",
        "    FullyConnected(in_features=16*7*7, out_features=128),\n",
        "    ReLULayer(),\n",
        "    FullyConnected(in_features=128, out_features=10)\n",
        "]\n",
        "\n",
        "loss_fn = SoftmaxCrossEntropyLoss()\n",
        "optimizer = SGD(learning_rate=0.01)\n",
        "model = Scratch2dCNNClassifier(layers, loss_fn, optimizer)\n",
        "\n",
        "print(\"\\nModel Summary:\")\n",
        "model.summary()"
      ]
    },
    {
      "cell_type": "markdown",
      "metadata": {},
      "source": [
        "**Train Model**"
      ]
    },
    {
      "cell_type": "code",
      "execution_count": null,
      "metadata": {},
      "outputs": [],
      "source": [
        "print(\"\\nTraining model...\")\n",
        "start_time = time.time()\n",
        "\n",
        "history = model.fit(\n",
        "    X_train, y_train,\n",
        "    X_val, y_val,\n",
        "    epochs=10,\n",
        "    batch_size=32,\n",
        "    verbose=True\n",
        ")\n",
        "\n",
        "training_time = time.time() - start_time\n",
        "print(f\"\\nTraining completed in {training_time:.2f} seconds\")"
      ]
    },
    {
      "cell_type": "markdown",
      "metadata": {},
      "source": [
        "**Training History**"
      ]
    },
    {
      "cell_type": "code",
      "execution_count": null,
      "metadata": {},
      "outputs": [],
      "source": [
        "fig, (ax1, ax2) = plt.subplots(1, 2, figsize=(12, 4))\n",
        "\n",
        "ax1.plot(history['train_loss'], label='Training Loss')\n",
        "ax1.plot(history['val_loss'], label='Validation Loss')\n",
        "ax1.set_title('Model Loss')\n",
        "ax1.set_xlabel('Epoch')\n",
        "ax1.set_ylabel('Loss')\n",
        "ax1.legend()\n",
        "ax1.grid(True)\n",
        "\n",
        "ax2.plot(history['train_acc'], label='Training Accuracy')\n",
        "ax2.plot(history['val_acc'], label='Validation Accuracy')\n",
        "ax2.set_title('Model Accuracy')\n",
        "ax2.set_xlabel('Epoch')\n",
        "ax2.set_ylabel('Accuracy')\n",
        "ax2.legend()\n",
        "ax2.grid(True)\n",
        "\n",
        "plt.tight_layout()\n",
        "plt.savefig('plots/training_history.png', dpi=150, bbox_inches='tight')\n",
        "plt.show()"
      ]
    },
    {
      "cell_type": "markdown",
      "metadata": {},
      "source": [
        "**Evaluate on Test Set**"
      ]
    },
    {
      "cell_type": "code",
      "execution_count": null,
      "metadata": {},
      "outputs": [],
      "source": [
        "print(\"Evaluating on test set...\")\n",
        "test_loss, test_acc = model.evaluate(X_test, y_test)\n",
        "print(f\"Test Loss: {test_loss:.4f}\")\n",
        "print(f\"Test Accuracy: {test_acc:.4f}\")"
      ]
    },
    {
      "cell_type": "markdown",
      "metadata": {},
      "source": [
        "**Sample Predictions**"
      ]
    },
    {
      "cell_type": "code",
      "execution_count": null,
      "metadata": {},
      "outputs": [],
      "source": [
        "predictions = model.predict(X_test[:5])\n",
        "probabilities = model.predict_proba(X_test[:5])\n",
        "\n",
        "fig, axes = plt.subplots(1, 5, figsize=(15, 3))\n",
        "for i in range(5):\n",
        "    ax = axes[i]\n",
        "    ax.imshow(X_test[i, 0], cmap='gray')\n",
        "    ax.axis('off')\n",
        "    \n",
        "    pred_label = predictions[i]\n",
        "    true_label = y_test[i]\n",
        "    confidence = np.max(probabilities[i])\n",
        "    color = 'green' if pred_label == true_label else 'red'\n",
        "    \n",
        "    ax.set_title(f'Pred: {pred_label}\\nTrue: {true_label}\\nConf: {confidence:.2f}', color=color, fontsize=10)\n",
        "\n",
        "plt.tight_layout()\n",
        "plt.show()"
      ]
    },
    {
      "cell_type": "markdown",
      "metadata": {},
      "source": [
        "**Results Summary**"
      ]
    },
    {
      "cell_type": "code",
      "execution_count": null,
      "metadata": {},
      "outputs": [],
      "source": [
        "print(\"=\"*50)\n",
        "print(\"Training Summary:\")\n",
        "print(\"=\"*50)\n",
        "print(f\"Model: Simple CNN\")\n",
        "print(f\"Test Accuracy: {test_acc:.4f}\")\n",
        "print(f\"Test Loss: {test_loss:.4f}\")\n",
        "print(f\"Training Time: {training_time:.2f} seconds\")\n",
        "print(f\"Epochs: 10\")\n",
        "print(f\"Batch Size: 32\")\n",
        "print(\"=\"*50)"
      ]
    }
  ],
  "metadata": {
    "kernelspec": {
      "display_name": "Python 3",
      "language": "python",
      "name": "python3"
    },
    "language_info": {
      "codemirror_mode": {
        "name": "ipython",
        "version": 3
      },
      "file_extension": ".py",
      "mimetype": "text/x-python",
      "name": "python",
      "nbconvert_exporter": "python",
      "pygments_lexer": "ipython3",
      "version": "3.13.5"
    }
  },
  "nbformat": 4,
  "nbformat_minor": 4
}
